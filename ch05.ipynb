{
 "cells": [
  {
   "cell_type": "markdown",
   "id": "70cbb39f",
   "metadata": {},
   "source": [
    "# 5장. 데이터와 연산, 그리고 변수"
   ]
  },
  {
   "cell_type": "code",
   "execution_count": 1,
   "id": "3fbadb21",
   "metadata": {},
   "outputs": [
    {
     "data": {
      "text/plain": [
       "131"
      ]
     },
     "execution_count": 1,
     "metadata": {},
     "output_type": "execute_result"
    }
   ],
   "source": [
    "100+31"
   ]
  },
  {
   "cell_type": "code",
   "execution_count": 2,
   "id": "debf76f3",
   "metadata": {},
   "outputs": [
    {
     "data": {
      "text/plain": [
       "13"
      ]
     },
     "execution_count": 2,
     "metadata": {},
     "output_type": "execute_result"
    }
   ],
   "source": [
    "10+3"
   ]
  },
  {
   "cell_type": "code",
   "execution_count": 3,
   "id": "6ee5932a",
   "metadata": {},
   "outputs": [
    {
     "data": {
      "text/plain": [
       "7"
      ]
     },
     "execution_count": 3,
     "metadata": {},
     "output_type": "execute_result"
    }
   ],
   "source": [
    "10-3"
   ]
  },
  {
   "cell_type": "code",
   "execution_count": 4,
   "id": "d1fbf9be",
   "metadata": {},
   "outputs": [
    {
     "data": {
      "text/plain": [
       "30"
      ]
     },
     "execution_count": 4,
     "metadata": {},
     "output_type": "execute_result"
    }
   ],
   "source": [
    "10*3"
   ]
  },
  {
   "cell_type": "code",
   "execution_count": 5,
   "id": "f19f2278",
   "metadata": {},
   "outputs": [
    {
     "data": {
      "text/plain": [
       "3.3333333333333335"
      ]
     },
     "execution_count": 5,
     "metadata": {},
     "output_type": "execute_result"
    }
   ],
   "source": [
    "10/3"
   ]
  },
  {
   "cell_type": "code",
   "execution_count": 6,
   "id": "cfc864fb",
   "metadata": {},
   "outputs": [
    {
     "data": {
      "text/plain": [
       "9"
      ]
     },
     "execution_count": 6,
     "metadata": {},
     "output_type": "execute_result"
    }
   ],
   "source": [
    "47//5"
   ]
  },
  {
   "cell_type": "code",
   "execution_count": 7,
   "id": "12a3d98c",
   "metadata": {},
   "outputs": [
    {
     "data": {
      "text/plain": [
       "2"
      ]
     },
     "execution_count": 7,
     "metadata": {},
     "output_type": "execute_result"
    }
   ],
   "source": [
    "47%5"
   ]
  },
  {
   "cell_type": "code",
   "execution_count": 8,
   "id": "39937af1",
   "metadata": {},
   "outputs": [],
   "source": [
    "a=21     # Assignment"
   ]
  },
  {
   "cell_type": "code",
   "execution_count": 9,
   "id": "af77f206",
   "metadata": {},
   "outputs": [],
   "source": [
    "a=21"
   ]
  },
  {
   "cell_type": "code",
   "execution_count": 10,
   "id": "dbe56ead",
   "metadata": {},
   "outputs": [
    {
     "data": {
      "text/plain": [
       "121"
      ]
     },
     "execution_count": 10,
     "metadata": {},
     "output_type": "execute_result"
    }
   ],
   "source": [
    "a+100"
   ]
  },
  {
   "cell_type": "code",
   "execution_count": 11,
   "id": "b6fe8842",
   "metadata": {},
   "outputs": [],
   "source": [
    "a=21"
   ]
  },
  {
   "cell_type": "code",
   "execution_count": 12,
   "id": "a72c5feb",
   "metadata": {},
   "outputs": [
    {
     "data": {
      "text/plain": [
       "121"
      ]
     },
     "execution_count": 12,
     "metadata": {},
     "output_type": "execute_result"
    }
   ],
   "source": [
    "a+100"
   ]
  },
  {
   "cell_type": "code",
   "execution_count": 13,
   "id": "36c93408",
   "metadata": {},
   "outputs": [],
   "source": [
    "a=200"
   ]
  },
  {
   "cell_type": "code",
   "execution_count": 14,
   "id": "d92089fd",
   "metadata": {},
   "outputs": [
    {
     "name": "stdout",
     "output_type": "stream",
     "text": [
      "10 20\n"
     ]
    }
   ],
   "source": [
    "a=10\n",
    "A=20\n",
    "print(a, A)"
   ]
  },
  {
   "cell_type": "code",
   "execution_count": null,
   "id": "e9644d55",
   "metadata": {},
   "outputs": [],
   "source": []
  }
 ],
 "metadata": {
  "kernelspec": {
   "display_name": "Python 3 (ipykernel)",
   "language": "python",
   "name": "python3"
  },
  "language_info": {
   "codemirror_mode": {
    "name": "ipython",
    "version": 3
   },
   "file_extension": ".py",
   "mimetype": "text/x-python",
   "name": "python",
   "nbconvert_exporter": "python",
   "pygments_lexer": "ipython3",
   "version": "3.10.8"
  }
 },
 "nbformat": 4,
 "nbformat_minor": 5
}
